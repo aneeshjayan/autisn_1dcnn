{
  "nbformat": 4,
  "nbformat_minor": 0,
  "metadata": {
    "colab": {
      "provenance": []
    },
    "kernelspec": {
      "name": "python3",
      "display_name": "Python 3"
    },
    "language_info": {
      "name": "python"
    }
  },
  "cells": [
    {
      "cell_type": "code",
      "execution_count": null,
      "metadata": {
        "id": "Cp-y56wxd7be"
      },
      "outputs": [],
      "source": [
        "import pandas as pd\n",
        "import numpy as np\n",
        "from sklearn.model_selection import train_test_split\n",
        "import seaborn as sns\n",
        "import matplotlib.pyplot as plt\n",
        "import tensorflow as tf\n",
        "from keras import layers\n",
        "import keras\n",
        "from tensorflow.keras.models import Sequential\n",
        "data=pd.read_csv(\"/content/drive/MyDrive/summer internship-cps/a34.csv\")"
      ]
    },
    {
      "cell_type": "code",
      "source": [
        "X=data.drop('output',axis=1)\n",
        "y=data['output']\n",
        "X_train, X_test, y_train, y_test = train_test_split(X, y, test_size=0.1, random_state=42)\n",
        "X_train.shape,y_train.shape,X_test.shape,y_test.shape"
      ],
      "metadata": {
        "colab": {
          "base_uri": "https://localhost:8080/"
        },
        "id": "WVF3nse6eN0X",
        "outputId": "1b52860c-e4ce-4f26-8b9e-f9a6721c3492"
      },
      "execution_count": null,
      "outputs": [
        {
          "output_type": "execute_result",
          "data": {
            "text/plain": [
              "((219, 21), (219,), (25, 21), (25,))"
            ]
          },
          "metadata": {},
          "execution_count": 2
        }
      ]
    },
    {
      "cell_type": "code",
      "source": [
        "# Convert DataFrame to NumPy array\n",
        "X_train = X_train.to_numpy()\n",
        "X_test = X_test.to_numpy()\n",
        "X_train = X_train.reshape(X_train.shape[0], X_train.shape[1], 1)\n",
        "X_test = X_test.reshape(X_test.shape[0], X_test.shape[1], 1)"
      ],
      "metadata": {
        "id": "b-4HvMGSeRdG"
      },
      "execution_count": null,
      "outputs": []
    },
    {
      "cell_type": "code",
      "source": [
        "X_train.shape[1]"
      ],
      "metadata": {
        "colab": {
          "base_uri": "https://localhost:8080/"
        },
        "id": "8vNuLRUEeT94",
        "outputId": "10a04870-79de-4b88-d874-7ebf9bd50eca"
      },
      "execution_count": null,
      "outputs": [
        {
          "output_type": "execute_result",
          "data": {
            "text/plain": [
              "21"
            ]
          },
          "metadata": {},
          "execution_count": 4
        }
      ]
    },
    {
      "cell_type": "code",
      "source": [
        "from tensorflow.keras.models import Sequential\n",
        "from tensorflow.keras.layers import Conv1D, MaxPooling1D, Flatten, Dense\n",
        "from keras.layers import Dropout\n",
        "model = Sequential()\n",
        "model.add(Conv1D(filters=400, kernel_size=3, activation='relu', input_shape=(X_train.shape[1], 1)))\n",
        "model.add(Conv1D(filters=128, kernel_size=3, activation='relu'))\n",
        "model.add(Conv1D(filters=64, kernel_size=3, activation='relu'))\n",
        "model.add(Conv1D(filters=32, kernel_size=3, activation='relu'))\n",
        "model.add(MaxPooling1D(pool_size=3))\n",
        "model.add(Flatten())\n",
        "model.add(Dense(100, activation='relu'))\n",
        "model.add(Dense(64, activation='relu'))\n",
        "model.add(Dense(1, activation='sigmoid'))\n",
        "model.summary()\n"
      ],
      "metadata": {
        "colab": {
          "base_uri": "https://localhost:8080/"
        },
        "id": "VAAXwexLeW0o",
        "outputId": "3e7ee5b0-6420-4ff9-94c8-6791b110afbe"
      },
      "execution_count": null,
      "outputs": [
        {
          "output_type": "stream",
          "name": "stdout",
          "text": [
            "Model: \"sequential_28\"\n",
            "_________________________________________________________________\n",
            " Layer (type)                Output Shape              Param #   \n",
            "=================================================================\n",
            " conv1d_117 (Conv1D)         (None, 19, 400)           1600      \n",
            "                                                                 \n",
            " conv1d_118 (Conv1D)         (None, 17, 128)           153728    \n",
            "                                                                 \n",
            " conv1d_119 (Conv1D)         (None, 15, 64)            24640     \n",
            "                                                                 \n",
            " conv1d_120 (Conv1D)         (None, 13, 32)            6176      \n",
            "                                                                 \n",
            " max_pooling1d_26 (MaxPoolin  (None, 4, 32)            0         \n",
            " g1D)                                                            \n",
            "                                                                 \n",
            " flatten_24 (Flatten)        (None, 128)               0         \n",
            "                                                                 \n",
            " dense_100 (Dense)           (None, 100)               12900     \n",
            "                                                                 \n",
            " dense_101 (Dense)           (None, 64)                6464      \n",
            "                                                                 \n",
            " dense_102 (Dense)           (None, 1)                 65        \n",
            "                                                                 \n",
            "=================================================================\n",
            "Total params: 205,573\n",
            "Trainable params: 205,573\n",
            "Non-trainable params: 0\n",
            "_________________________________________________________________\n"
          ]
        }
      ]
    },
    {
      "cell_type": "code",
      "source": [
        "\n",
        "model.compile(optimizer=\"adam\", loss=\"binary_crossentropy\", metrics=[\"accuracy\"],)\n",
        "\n",
        "\n",
        "model_history = model.fit(X_train,y_train, epochs=216, validation_data=(X_test,y_test),batch_size=64)"
      ],
      "metadata": {
        "colab": {
          "base_uri": "https://localhost:8080/"
        },
        "id": "c0vxgLGNeZNN",
        "outputId": "0b558803-abac-4076-f8ad-237692a2b2ab"
      },
      "execution_count": null,
      "outputs": [
        {
          "output_type": "stream",
          "name": "stdout",
          "text": [
            "Epoch 1/216\n",
            "4/4 [==============================] - 2s 143ms/step - loss: 0.6915 - accuracy: 0.4932 - val_loss: 0.6862 - val_accuracy: 0.4400\n",
            "Epoch 2/216\n",
            "4/4 [==============================] - 0s 72ms/step - loss: 0.6778 - accuracy: 0.4932 - val_loss: 0.6770 - val_accuracy: 0.4400\n",
            "Epoch 3/216\n",
            "4/4 [==============================] - 0s 98ms/step - loss: 0.6490 - accuracy: 0.4886 - val_loss: 0.6419 - val_accuracy: 0.5200\n",
            "Epoch 4/216\n",
            "4/4 [==============================] - 0s 108ms/step - loss: 0.6027 - accuracy: 0.6347 - val_loss: 0.5805 - val_accuracy: 0.7200\n",
            "Epoch 5/216\n",
            "4/4 [==============================] - 0s 99ms/step - loss: 0.5298 - accuracy: 0.7900 - val_loss: 0.5033 - val_accuracy: 0.8000\n",
            "Epoch 6/216\n",
            "4/4 [==============================] - 0s 97ms/step - loss: 0.4580 - accuracy: 0.7808 - val_loss: 0.4555 - val_accuracy: 0.7600\n",
            "Epoch 7/216\n",
            "4/4 [==============================] - 0s 101ms/step - loss: 0.4201 - accuracy: 0.7808 - val_loss: 0.4445 - val_accuracy: 0.7600\n",
            "Epoch 8/216\n",
            "4/4 [==============================] - 0s 104ms/step - loss: 0.4099 - accuracy: 0.8128 - val_loss: 0.4276 - val_accuracy: 0.8400\n",
            "Epoch 9/216\n",
            "4/4 [==============================] - 0s 100ms/step - loss: 0.3898 - accuracy: 0.8311 - val_loss: 0.4184 - val_accuracy: 0.8400\n",
            "Epoch 10/216\n",
            "4/4 [==============================] - 0s 105ms/step - loss: 0.4020 - accuracy: 0.8311 - val_loss: 0.3893 - val_accuracy: 0.8400\n",
            "Epoch 11/216\n",
            "4/4 [==============================] - 0s 99ms/step - loss: 0.3801 - accuracy: 0.8082 - val_loss: 0.3834 - val_accuracy: 0.8400\n",
            "Epoch 12/216\n",
            "4/4 [==============================] - 0s 104ms/step - loss: 0.3898 - accuracy: 0.8174 - val_loss: 0.3891 - val_accuracy: 0.8000\n",
            "Epoch 13/216\n",
            "4/4 [==============================] - 0s 100ms/step - loss: 0.4063 - accuracy: 0.8311 - val_loss: 0.3965 - val_accuracy: 0.8400\n",
            "Epoch 14/216\n",
            "4/4 [==============================] - 0s 103ms/step - loss: 0.3844 - accuracy: 0.8311 - val_loss: 0.4259 - val_accuracy: 0.8400\n",
            "Epoch 15/216\n",
            "4/4 [==============================] - 0s 100ms/step - loss: 0.3797 - accuracy: 0.8128 - val_loss: 0.3825 - val_accuracy: 0.8400\n",
            "Epoch 16/216\n",
            "4/4 [==============================] - 0s 67ms/step - loss: 0.3799 - accuracy: 0.8311 - val_loss: 0.3792 - val_accuracy: 0.8400\n",
            "Epoch 17/216\n",
            "4/4 [==============================] - 0s 66ms/step - loss: 0.3690 - accuracy: 0.8311 - val_loss: 0.3808 - val_accuracy: 0.8400\n",
            "Epoch 18/216\n",
            "4/4 [==============================] - 0s 59ms/step - loss: 0.3711 - accuracy: 0.8082 - val_loss: 0.3790 - val_accuracy: 0.8000\n",
            "Epoch 19/216\n",
            "4/4 [==============================] - 0s 69ms/step - loss: 0.3645 - accuracy: 0.8265 - val_loss: 0.3837 - val_accuracy: 0.8400\n",
            "Epoch 20/216\n",
            "4/4 [==============================] - 0s 67ms/step - loss: 0.3731 - accuracy: 0.8311 - val_loss: 0.3755 - val_accuracy: 0.8000\n",
            "Epoch 21/216\n",
            "4/4 [==============================] - 0s 62ms/step - loss: 0.3620 - accuracy: 0.8265 - val_loss: 0.4034 - val_accuracy: 0.7600\n",
            "Epoch 22/216\n",
            "4/4 [==============================] - 0s 58ms/step - loss: 0.3680 - accuracy: 0.7763 - val_loss: 0.3771 - val_accuracy: 0.8400\n",
            "Epoch 23/216\n",
            "4/4 [==============================] - 0s 69ms/step - loss: 0.3582 - accuracy: 0.8311 - val_loss: 0.3817 - val_accuracy: 0.8400\n",
            "Epoch 24/216\n",
            "4/4 [==============================] - 0s 61ms/step - loss: 0.3533 - accuracy: 0.8311 - val_loss: 0.3691 - val_accuracy: 0.8000\n",
            "Epoch 25/216\n",
            "4/4 [==============================] - 0s 66ms/step - loss: 0.3571 - accuracy: 0.8311 - val_loss: 0.3648 - val_accuracy: 0.8000\n",
            "Epoch 26/216\n",
            "4/4 [==============================] - 0s 65ms/step - loss: 0.3546 - accuracy: 0.8037 - val_loss: 0.3717 - val_accuracy: 0.8000\n",
            "Epoch 27/216\n",
            "4/4 [==============================] - 0s 70ms/step - loss: 0.3536 - accuracy: 0.8311 - val_loss: 0.3672 - val_accuracy: 0.8400\n",
            "Epoch 28/216\n",
            "4/4 [==============================] - 0s 64ms/step - loss: 0.3513 - accuracy: 0.8311 - val_loss: 0.3751 - val_accuracy: 0.8000\n",
            "Epoch 29/216\n",
            "4/4 [==============================] - 0s 62ms/step - loss: 0.3512 - accuracy: 0.8311 - val_loss: 0.3637 - val_accuracy: 0.8000\n",
            "Epoch 30/216\n",
            "4/4 [==============================] - 0s 68ms/step - loss: 0.3403 - accuracy: 0.8265 - val_loss: 0.3746 - val_accuracy: 0.8000\n",
            "Epoch 31/216\n",
            "4/4 [==============================] - 0s 68ms/step - loss: 0.3425 - accuracy: 0.8037 - val_loss: 0.3575 - val_accuracy: 0.8000\n",
            "Epoch 32/216\n",
            "4/4 [==============================] - 0s 67ms/step - loss: 0.3424 - accuracy: 0.8356 - val_loss: 0.3542 - val_accuracy: 0.8000\n",
            "Epoch 33/216\n",
            "4/4 [==============================] - 0s 64ms/step - loss: 0.3344 - accuracy: 0.8265 - val_loss: 0.3587 - val_accuracy: 0.8000\n",
            "Epoch 34/216\n",
            "4/4 [==============================] - 0s 63ms/step - loss: 0.3376 - accuracy: 0.8311 - val_loss: 0.3632 - val_accuracy: 0.8000\n",
            "Epoch 35/216\n",
            "4/4 [==============================] - 0s 67ms/step - loss: 0.3425 - accuracy: 0.8219 - val_loss: 0.3521 - val_accuracy: 0.7600\n",
            "Epoch 36/216\n",
            "4/4 [==============================] - 0s 66ms/step - loss: 0.3309 - accuracy: 0.8402 - val_loss: 0.3596 - val_accuracy: 0.8000\n",
            "Epoch 37/216\n",
            "4/4 [==============================] - 0s 59ms/step - loss: 0.3451 - accuracy: 0.8219 - val_loss: 0.3548 - val_accuracy: 0.8000\n",
            "Epoch 38/216\n",
            "4/4 [==============================] - 0s 60ms/step - loss: 0.3347 - accuracy: 0.8356 - val_loss: 0.3552 - val_accuracy: 0.8000\n",
            "Epoch 39/216\n",
            "4/4 [==============================] - 0s 61ms/step - loss: 0.3437 - accuracy: 0.8311 - val_loss: 0.3479 - val_accuracy: 0.8000\n",
            "Epoch 40/216\n",
            "4/4 [==============================] - 0s 67ms/step - loss: 0.3333 - accuracy: 0.8037 - val_loss: 0.3483 - val_accuracy: 0.8000\n",
            "Epoch 41/216\n",
            "4/4 [==============================] - 0s 59ms/step - loss: 0.3287 - accuracy: 0.8311 - val_loss: 0.3540 - val_accuracy: 0.8000\n",
            "Epoch 42/216\n",
            "4/4 [==============================] - 0s 66ms/step - loss: 0.3408 - accuracy: 0.8311 - val_loss: 0.3697 - val_accuracy: 0.8400\n",
            "Epoch 43/216\n",
            "4/4 [==============================] - 0s 61ms/step - loss: 0.3588 - accuracy: 0.8356 - val_loss: 0.3446 - val_accuracy: 0.8000\n",
            "Epoch 44/216\n",
            "4/4 [==============================] - 0s 64ms/step - loss: 0.3198 - accuracy: 0.8356 - val_loss: 0.3740 - val_accuracy: 0.8400\n",
            "Epoch 45/216\n",
            "4/4 [==============================] - 0s 63ms/step - loss: 0.3616 - accuracy: 0.8311 - val_loss: 0.3648 - val_accuracy: 0.8000\n",
            "Epoch 46/216\n",
            "4/4 [==============================] - 0s 68ms/step - loss: 0.3479 - accuracy: 0.7945 - val_loss: 0.3483 - val_accuracy: 0.8000\n",
            "Epoch 47/216\n",
            "4/4 [==============================] - 0s 63ms/step - loss: 0.3538 - accuracy: 0.8311 - val_loss: 0.3589 - val_accuracy: 0.8400\n",
            "Epoch 48/216\n",
            "4/4 [==============================] - 0s 66ms/step - loss: 0.3572 - accuracy: 0.8174 - val_loss: 0.3752 - val_accuracy: 0.8400\n",
            "Epoch 49/216\n",
            "4/4 [==============================] - 0s 68ms/step - loss: 0.3500 - accuracy: 0.8219 - val_loss: 0.3776 - val_accuracy: 0.8000\n",
            "Epoch 50/216\n",
            "4/4 [==============================] - 0s 65ms/step - loss: 0.3481 - accuracy: 0.8402 - val_loss: 0.3527 - val_accuracy: 0.8400\n",
            "Epoch 51/216\n",
            "4/4 [==============================] - 0s 63ms/step - loss: 0.3381 - accuracy: 0.8311 - val_loss: 0.3505 - val_accuracy: 0.8400\n",
            "Epoch 52/216\n",
            "4/4 [==============================] - 0s 64ms/step - loss: 0.3355 - accuracy: 0.8311 - val_loss: 0.3520 - val_accuracy: 0.8000\n",
            "Epoch 53/216\n",
            "4/4 [==============================] - 0s 64ms/step - loss: 0.3299 - accuracy: 0.8539 - val_loss: 0.3435 - val_accuracy: 0.8000\n",
            "Epoch 54/216\n",
            "4/4 [==============================] - 0s 97ms/step - loss: 0.3311 - accuracy: 0.8402 - val_loss: 0.3411 - val_accuracy: 0.8400\n",
            "Epoch 55/216\n",
            "4/4 [==============================] - 0s 104ms/step - loss: 0.3340 - accuracy: 0.8356 - val_loss: 0.3522 - val_accuracy: 0.8000\n",
            "Epoch 56/216\n",
            "4/4 [==============================] - 0s 105ms/step - loss: 0.3252 - accuracy: 0.8539 - val_loss: 0.3414 - val_accuracy: 0.7600\n",
            "Epoch 57/216\n",
            "4/4 [==============================] - 0s 105ms/step - loss: 0.3203 - accuracy: 0.8447 - val_loss: 0.3486 - val_accuracy: 0.8400\n",
            "Epoch 58/216\n",
            "4/4 [==============================] - 0s 95ms/step - loss: 0.3308 - accuracy: 0.8493 - val_loss: 0.3434 - val_accuracy: 0.8400\n",
            "Epoch 59/216\n",
            "4/4 [==============================] - 0s 102ms/step - loss: 0.3224 - accuracy: 0.8493 - val_loss: 0.3353 - val_accuracy: 0.8000\n",
            "Epoch 60/216\n",
            "4/4 [==============================] - 0s 101ms/step - loss: 0.3278 - accuracy: 0.8539 - val_loss: 0.3421 - val_accuracy: 0.8000\n",
            "Epoch 61/216\n",
            "4/4 [==============================] - 0s 98ms/step - loss: 0.3197 - accuracy: 0.8447 - val_loss: 0.3678 - val_accuracy: 0.8000\n",
            "Epoch 62/216\n",
            "4/4 [==============================] - 0s 103ms/step - loss: 0.3334 - accuracy: 0.8356 - val_loss: 0.3552 - val_accuracy: 0.8000\n",
            "Epoch 63/216\n",
            "4/4 [==============================] - 0s 99ms/step - loss: 0.3257 - accuracy: 0.8493 - val_loss: 0.3689 - val_accuracy: 0.8000\n",
            "Epoch 64/216\n",
            "4/4 [==============================] - 0s 101ms/step - loss: 0.3307 - accuracy: 0.8311 - val_loss: 0.3571 - val_accuracy: 0.8400\n",
            "Epoch 65/216\n",
            "4/4 [==============================] - 0s 104ms/step - loss: 0.3254 - accuracy: 0.8311 - val_loss: 0.3469 - val_accuracy: 0.8000\n",
            "Epoch 66/216\n",
            "4/4 [==============================] - 0s 85ms/step - loss: 0.3422 - accuracy: 0.8356 - val_loss: 0.3629 - val_accuracy: 0.8800\n",
            "Epoch 67/216\n",
            "4/4 [==============================] - 0s 62ms/step - loss: 0.3130 - accuracy: 0.8584 - val_loss: 0.3520 - val_accuracy: 0.8000\n",
            "Epoch 68/216\n",
            "4/4 [==============================] - 0s 60ms/step - loss: 0.3398 - accuracy: 0.8265 - val_loss: 0.3371 - val_accuracy: 0.8400\n",
            "Epoch 69/216\n",
            "4/4 [==============================] - 0s 62ms/step - loss: 0.3189 - accuracy: 0.8493 - val_loss: 0.3306 - val_accuracy: 0.8000\n",
            "Epoch 70/216\n",
            "4/4 [==============================] - 0s 59ms/step - loss: 0.3198 - accuracy: 0.8402 - val_loss: 0.3364 - val_accuracy: 0.8000\n",
            "Epoch 71/216\n",
            "4/4 [==============================] - 0s 64ms/step - loss: 0.3236 - accuracy: 0.8402 - val_loss: 0.3278 - val_accuracy: 0.8000\n",
            "Epoch 72/216\n",
            "4/4 [==============================] - 0s 60ms/step - loss: 0.3190 - accuracy: 0.8402 - val_loss: 0.3287 - val_accuracy: 0.8000\n",
            "Epoch 73/216\n",
            "4/4 [==============================] - 0s 63ms/step - loss: 0.3419 - accuracy: 0.8082 - val_loss: 0.3378 - val_accuracy: 0.8000\n",
            "Epoch 74/216\n",
            "4/4 [==============================] - 0s 60ms/step - loss: 0.3481 - accuracy: 0.8356 - val_loss: 0.3633 - val_accuracy: 0.8400\n",
            "Epoch 75/216\n",
            "4/4 [==============================] - 0s 67ms/step - loss: 0.3475 - accuracy: 0.8219 - val_loss: 0.3902 - val_accuracy: 0.8000\n",
            "Epoch 76/216\n",
            "4/4 [==============================] - 0s 64ms/step - loss: 0.3419 - accuracy: 0.8311 - val_loss: 0.3875 - val_accuracy: 0.8000\n",
            "Epoch 77/216\n",
            "4/4 [==============================] - 0s 66ms/step - loss: 0.3401 - accuracy: 0.8584 - val_loss: 0.3764 - val_accuracy: 0.7600\n",
            "Epoch 78/216\n",
            "4/4 [==============================] - 0s 64ms/step - loss: 0.3305 - accuracy: 0.8447 - val_loss: 0.3550 - val_accuracy: 0.8400\n",
            "Epoch 79/216\n",
            "4/4 [==============================] - 0s 65ms/step - loss: 0.3263 - accuracy: 0.8402 - val_loss: 0.3458 - val_accuracy: 0.8000\n",
            "Epoch 80/216\n",
            "4/4 [==============================] - 0s 65ms/step - loss: 0.3164 - accuracy: 0.8402 - val_loss: 0.3469 - val_accuracy: 0.8000\n",
            "Epoch 81/216\n",
            "4/4 [==============================] - 0s 61ms/step - loss: 0.3217 - accuracy: 0.8447 - val_loss: 0.3348 - val_accuracy: 0.8000\n",
            "Epoch 82/216\n",
            "4/4 [==============================] - 0s 67ms/step - loss: 0.3172 - accuracy: 0.8539 - val_loss: 0.3404 - val_accuracy: 0.8400\n",
            "Epoch 83/216\n",
            "4/4 [==============================] - 0s 68ms/step - loss: 0.3258 - accuracy: 0.8174 - val_loss: 0.3345 - val_accuracy: 0.8000\n",
            "Epoch 84/216\n",
            "4/4 [==============================] - 0s 70ms/step - loss: 0.3385 - accuracy: 0.8356 - val_loss: 0.3474 - val_accuracy: 0.8000\n",
            "Epoch 85/216\n",
            "4/4 [==============================] - 0s 81ms/step - loss: 0.3372 - accuracy: 0.8356 - val_loss: 0.3478 - val_accuracy: 0.8800\n",
            "Epoch 86/216\n",
            "4/4 [==============================] - 0s 108ms/step - loss: 0.3205 - accuracy: 0.8402 - val_loss: 0.3452 - val_accuracy: 0.8000\n",
            "Epoch 87/216\n",
            "4/4 [==============================] - 0s 108ms/step - loss: 0.3157 - accuracy: 0.8447 - val_loss: 0.3395 - val_accuracy: 0.8400\n",
            "Epoch 88/216\n",
            "4/4 [==============================] - 0s 103ms/step - loss: 0.3140 - accuracy: 0.8630 - val_loss: 0.3363 - val_accuracy: 0.8400\n",
            "Epoch 89/216\n",
            "4/4 [==============================] - 0s 114ms/step - loss: 0.3151 - accuracy: 0.8493 - val_loss: 0.3432 - val_accuracy: 0.7600\n",
            "Epoch 90/216\n",
            "4/4 [==============================] - 0s 97ms/step - loss: 0.3102 - accuracy: 0.8676 - val_loss: 0.3424 - val_accuracy: 0.7600\n",
            "Epoch 91/216\n",
            "4/4 [==============================] - 0s 97ms/step - loss: 0.3206 - accuracy: 0.8493 - val_loss: 0.3336 - val_accuracy: 0.8000\n",
            "Epoch 92/216\n",
            "4/4 [==============================] - 0s 110ms/step - loss: 0.3054 - accuracy: 0.8676 - val_loss: 0.3283 - val_accuracy: 0.8000\n",
            "Epoch 93/216\n",
            "4/4 [==============================] - 0s 107ms/step - loss: 0.3108 - accuracy: 0.8356 - val_loss: 0.3318 - val_accuracy: 0.8400\n",
            "Epoch 94/216\n",
            "4/4 [==============================] - 0s 100ms/step - loss: 0.3050 - accuracy: 0.8721 - val_loss: 0.3144 - val_accuracy: 0.8400\n",
            "Epoch 95/216\n",
            "4/4 [==============================] - 0s 100ms/step - loss: 0.3245 - accuracy: 0.8630 - val_loss: 0.3270 - val_accuracy: 0.8400\n",
            "Epoch 96/216\n",
            "4/4 [==============================] - 0s 111ms/step - loss: 0.3053 - accuracy: 0.8539 - val_loss: 0.3352 - val_accuracy: 0.8000\n",
            "Epoch 97/216\n",
            "4/4 [==============================] - 0s 101ms/step - loss: 0.3113 - accuracy: 0.8584 - val_loss: 0.3389 - val_accuracy: 0.8000\n",
            "Epoch 98/216\n",
            "4/4 [==============================] - 0s 94ms/step - loss: 0.2997 - accuracy: 0.8539 - val_loss: 0.3298 - val_accuracy: 0.8000\n",
            "Epoch 99/216\n",
            "4/4 [==============================] - 0s 101ms/step - loss: 0.3049 - accuracy: 0.8539 - val_loss: 0.3315 - val_accuracy: 0.7600\n",
            "Epoch 100/216\n",
            "4/4 [==============================] - 0s 103ms/step - loss: 0.3075 - accuracy: 0.8584 - val_loss: 0.3214 - val_accuracy: 0.8000\n",
            "Epoch 101/216\n",
            "4/4 [==============================] - 0s 109ms/step - loss: 0.3027 - accuracy: 0.8584 - val_loss: 0.3201 - val_accuracy: 0.8000\n",
            "Epoch 102/216\n",
            "4/4 [==============================] - 0s 104ms/step - loss: 0.2976 - accuracy: 0.8584 - val_loss: 0.3247 - val_accuracy: 0.8000\n",
            "Epoch 103/216\n",
            "4/4 [==============================] - 0s 106ms/step - loss: 0.2997 - accuracy: 0.8630 - val_loss: 0.3496 - val_accuracy: 0.8000\n",
            "Epoch 104/216\n",
            "4/4 [==============================] - 0s 100ms/step - loss: 0.3103 - accuracy: 0.8493 - val_loss: 0.3460 - val_accuracy: 0.7600\n",
            "Epoch 105/216\n",
            "4/4 [==============================] - 0s 99ms/step - loss: 0.2945 - accuracy: 0.8539 - val_loss: 0.3744 - val_accuracy: 0.8400\n",
            "Epoch 106/216\n",
            "4/4 [==============================] - 0s 100ms/step - loss: 0.2942 - accuracy: 0.8630 - val_loss: 0.3560 - val_accuracy: 0.8000\n",
            "Epoch 107/216\n",
            "4/4 [==============================] - 0s 98ms/step - loss: 0.3313 - accuracy: 0.8493 - val_loss: 0.3411 - val_accuracy: 0.8000\n",
            "Epoch 108/216\n",
            "4/4 [==============================] - 0s 104ms/step - loss: 0.3004 - accuracy: 0.8493 - val_loss: 0.3525 - val_accuracy: 0.8400\n",
            "Epoch 109/216\n",
            "4/4 [==============================] - 0s 99ms/step - loss: 0.3176 - accuracy: 0.8402 - val_loss: 0.3417 - val_accuracy: 0.8000\n",
            "Epoch 110/216\n",
            "4/4 [==============================] - 0s 73ms/step - loss: 0.3086 - accuracy: 0.8676 - val_loss: 0.3645 - val_accuracy: 0.8000\n",
            "Epoch 111/216\n",
            "4/4 [==============================] - 0s 66ms/step - loss: 0.3225 - accuracy: 0.8630 - val_loss: 0.3154 - val_accuracy: 0.8000\n",
            "Epoch 112/216\n",
            "4/4 [==============================] - 0s 64ms/step - loss: 0.2909 - accuracy: 0.8630 - val_loss: 0.3197 - val_accuracy: 0.8400\n",
            "Epoch 113/216\n",
            "4/4 [==============================] - 0s 60ms/step - loss: 0.2989 - accuracy: 0.8584 - val_loss: 0.3217 - val_accuracy: 0.8400\n",
            "Epoch 114/216\n",
            "4/4 [==============================] - 0s 70ms/step - loss: 0.3001 - accuracy: 0.8447 - val_loss: 0.3118 - val_accuracy: 0.8000\n",
            "Epoch 115/216\n",
            "4/4 [==============================] - 0s 62ms/step - loss: 0.2961 - accuracy: 0.8539 - val_loss: 0.3075 - val_accuracy: 0.8400\n",
            "Epoch 116/216\n",
            "4/4 [==============================] - 0s 63ms/step - loss: 0.3023 - accuracy: 0.8493 - val_loss: 0.3183 - val_accuracy: 0.7600\n",
            "Epoch 117/216\n",
            "4/4 [==============================] - 0s 65ms/step - loss: 0.3098 - accuracy: 0.8311 - val_loss: 0.3130 - val_accuracy: 0.7600\n",
            "Epoch 118/216\n",
            "4/4 [==============================] - 0s 69ms/step - loss: 0.2988 - accuracy: 0.8676 - val_loss: 0.3284 - val_accuracy: 0.8800\n",
            "Epoch 119/216\n",
            "4/4 [==============================] - 0s 65ms/step - loss: 0.3280 - accuracy: 0.8447 - val_loss: 0.3053 - val_accuracy: 0.8800\n",
            "Epoch 120/216\n",
            "4/4 [==============================] - 0s 66ms/step - loss: 0.3016 - accuracy: 0.8630 - val_loss: 0.3012 - val_accuracy: 0.8000\n",
            "Epoch 121/216\n",
            "4/4 [==============================] - 0s 67ms/step - loss: 0.2879 - accuracy: 0.8584 - val_loss: 0.3255 - val_accuracy: 0.8000\n",
            "Epoch 122/216\n",
            "4/4 [==============================] - 0s 69ms/step - loss: 0.2952 - accuracy: 0.8539 - val_loss: 0.3102 - val_accuracy: 0.8400\n",
            "Epoch 123/216\n",
            "4/4 [==============================] - 0s 64ms/step - loss: 0.2821 - accuracy: 0.8721 - val_loss: 0.2972 - val_accuracy: 0.8400\n",
            "Epoch 124/216\n",
            "4/4 [==============================] - 0s 62ms/step - loss: 0.2895 - accuracy: 0.8721 - val_loss: 0.3544 - val_accuracy: 0.8400\n",
            "Epoch 125/216\n",
            "4/4 [==============================] - 0s 60ms/step - loss: 0.3210 - accuracy: 0.8219 - val_loss: 0.3150 - val_accuracy: 0.8400\n",
            "Epoch 126/216\n",
            "4/4 [==============================] - 0s 68ms/step - loss: 0.3068 - accuracy: 0.8493 - val_loss: 0.3805 - val_accuracy: 0.8400\n",
            "Epoch 127/216\n",
            "4/4 [==============================] - 0s 66ms/step - loss: 0.3148 - accuracy: 0.8630 - val_loss: 0.3896 - val_accuracy: 0.8000\n",
            "Epoch 128/216\n",
            "4/4 [==============================] - 0s 59ms/step - loss: 0.3037 - accuracy: 0.8676 - val_loss: 0.3531 - val_accuracy: 0.8000\n",
            "Epoch 129/216\n",
            "4/4 [==============================] - 0s 60ms/step - loss: 0.3029 - accuracy: 0.8630 - val_loss: 0.3284 - val_accuracy: 0.8800\n",
            "Epoch 130/216\n",
            "4/4 [==============================] - 0s 65ms/step - loss: 0.2910 - accuracy: 0.8630 - val_loss: 0.3165 - val_accuracy: 0.8400\n",
            "Epoch 131/216\n",
            "4/4 [==============================] - 0s 60ms/step - loss: 0.3026 - accuracy: 0.8447 - val_loss: 0.3216 - val_accuracy: 0.8000\n",
            "Epoch 132/216\n",
            "4/4 [==============================] - 0s 61ms/step - loss: 0.2980 - accuracy: 0.8630 - val_loss: 0.3410 - val_accuracy: 0.8000\n",
            "Epoch 133/216\n",
            "4/4 [==============================] - 0s 60ms/step - loss: 0.3023 - accuracy: 0.8584 - val_loss: 0.3365 - val_accuracy: 0.8000\n",
            "Epoch 134/216\n",
            "4/4 [==============================] - 0s 69ms/step - loss: 0.3070 - accuracy: 0.8356 - val_loss: 0.3330 - val_accuracy: 0.8000\n",
            "Epoch 135/216\n",
            "4/4 [==============================] - 0s 64ms/step - loss: 0.2935 - accuracy: 0.8721 - val_loss: 0.2886 - val_accuracy: 0.8800\n",
            "Epoch 136/216\n",
            "4/4 [==============================] - 0s 68ms/step - loss: 0.2935 - accuracy: 0.8721 - val_loss: 0.2811 - val_accuracy: 0.8800\n",
            "Epoch 137/216\n",
            "4/4 [==============================] - 0s 68ms/step - loss: 0.2833 - accuracy: 0.8630 - val_loss: 0.2960 - val_accuracy: 0.8400\n",
            "Epoch 138/216\n",
            "4/4 [==============================] - 0s 71ms/step - loss: 0.2912 - accuracy: 0.8813 - val_loss: 0.3211 - val_accuracy: 0.8000\n",
            "Epoch 139/216\n",
            "4/4 [==============================] - 0s 65ms/step - loss: 0.2941 - accuracy: 0.8767 - val_loss: 0.2923 - val_accuracy: 0.8400\n",
            "Epoch 140/216\n",
            "4/4 [==============================] - 0s 64ms/step - loss: 0.2921 - accuracy: 0.8721 - val_loss: 0.2878 - val_accuracy: 0.8400\n",
            "Epoch 141/216\n",
            "4/4 [==============================] - 0s 61ms/step - loss: 0.2762 - accuracy: 0.8767 - val_loss: 0.2868 - val_accuracy: 0.8800\n",
            "Epoch 142/216\n",
            "4/4 [==============================] - 0s 69ms/step - loss: 0.2775 - accuracy: 0.8767 - val_loss: 0.2987 - val_accuracy: 0.8400\n",
            "Epoch 143/216\n",
            "4/4 [==============================] - 0s 65ms/step - loss: 0.2816 - accuracy: 0.8630 - val_loss: 0.2758 - val_accuracy: 0.8800\n",
            "Epoch 144/216\n",
            "4/4 [==============================] - 0s 68ms/step - loss: 0.2892 - accuracy: 0.8539 - val_loss: 0.2871 - val_accuracy: 0.8000\n",
            "Epoch 145/216\n",
            "4/4 [==============================] - 0s 66ms/step - loss: 0.2786 - accuracy: 0.8858 - val_loss: 0.2995 - val_accuracy: 0.8400\n",
            "Epoch 146/216\n",
            "4/4 [==============================] - 0s 72ms/step - loss: 0.2701 - accuracy: 0.8721 - val_loss: 0.2977 - val_accuracy: 0.8400\n",
            "Epoch 147/216\n",
            "4/4 [==============================] - 0s 60ms/step - loss: 0.2748 - accuracy: 0.8767 - val_loss: 0.2972 - val_accuracy: 0.8800\n",
            "Epoch 148/216\n",
            "4/4 [==============================] - 0s 74ms/step - loss: 0.2745 - accuracy: 0.8584 - val_loss: 0.2720 - val_accuracy: 0.8400\n",
            "Epoch 149/216\n",
            "4/4 [==============================] - 0s 100ms/step - loss: 0.3108 - accuracy: 0.8584 - val_loss: 0.2761 - val_accuracy: 0.8400\n",
            "Epoch 150/216\n",
            "4/4 [==============================] - 0s 98ms/step - loss: 0.2790 - accuracy: 0.8676 - val_loss: 0.3373 - val_accuracy: 0.8000\n",
            "Epoch 151/216\n",
            "4/4 [==============================] - 0s 95ms/step - loss: 0.2920 - accuracy: 0.8721 - val_loss: 0.3100 - val_accuracy: 0.8400\n",
            "Epoch 152/216\n",
            "4/4 [==============================] - 0s 101ms/step - loss: 0.2820 - accuracy: 0.8813 - val_loss: 0.2671 - val_accuracy: 0.8400\n",
            "Epoch 153/216\n",
            "4/4 [==============================] - 0s 98ms/step - loss: 0.2727 - accuracy: 0.8630 - val_loss: 0.2789 - val_accuracy: 0.8400\n",
            "Epoch 154/216\n",
            "4/4 [==============================] - 0s 103ms/step - loss: 0.2922 - accuracy: 0.8402 - val_loss: 0.2669 - val_accuracy: 0.8400\n",
            "Epoch 155/216\n",
            "4/4 [==============================] - 0s 112ms/step - loss: 0.2824 - accuracy: 0.8721 - val_loss: 0.2499 - val_accuracy: 0.8400\n",
            "Epoch 156/216\n",
            "4/4 [==============================] - 0s 99ms/step - loss: 0.2647 - accuracy: 0.8813 - val_loss: 0.2763 - val_accuracy: 0.9200\n",
            "Epoch 157/216\n",
            "4/4 [==============================] - 0s 110ms/step - loss: 0.2832 - accuracy: 0.8447 - val_loss: 0.2745 - val_accuracy: 0.8800\n",
            "Epoch 158/216\n",
            "4/4 [==============================] - 0s 103ms/step - loss: 0.2793 - accuracy: 0.8630 - val_loss: 0.2480 - val_accuracy: 0.8800\n",
            "Epoch 159/216\n",
            "4/4 [==============================] - 0s 108ms/step - loss: 0.2895 - accuracy: 0.8676 - val_loss: 0.2574 - val_accuracy: 0.8800\n",
            "Epoch 160/216\n",
            "4/4 [==============================] - 0s 101ms/step - loss: 0.2848 - accuracy: 0.8721 - val_loss: 0.2663 - val_accuracy: 0.8800\n",
            "Epoch 161/216\n",
            "4/4 [==============================] - 0s 82ms/step - loss: 0.2747 - accuracy: 0.8721 - val_loss: 0.2483 - val_accuracy: 0.8800\n",
            "Epoch 162/216\n",
            "4/4 [==============================] - 0s 67ms/step - loss: 0.2573 - accuracy: 0.8813 - val_loss: 0.2298 - val_accuracy: 0.9200\n",
            "Epoch 163/216\n",
            "4/4 [==============================] - 0s 63ms/step - loss: 0.2605 - accuracy: 0.8858 - val_loss: 0.2478 - val_accuracy: 0.8800\n",
            "Epoch 164/216\n",
            "4/4 [==============================] - 0s 69ms/step - loss: 0.2528 - accuracy: 0.8767 - val_loss: 0.2667 - val_accuracy: 0.8400\n",
            "Epoch 165/216\n",
            "4/4 [==============================] - 0s 65ms/step - loss: 0.2678 - accuracy: 0.8676 - val_loss: 0.2506 - val_accuracy: 0.8400\n",
            "Epoch 166/216\n",
            "4/4 [==============================] - 0s 61ms/step - loss: 0.2624 - accuracy: 0.8767 - val_loss: 0.2387 - val_accuracy: 0.9200\n",
            "Epoch 167/216\n",
            "4/4 [==============================] - 0s 73ms/step - loss: 0.2774 - accuracy: 0.8676 - val_loss: 0.2156 - val_accuracy: 0.9200\n",
            "Epoch 168/216\n",
            "4/4 [==============================] - 0s 61ms/step - loss: 0.2655 - accuracy: 0.8767 - val_loss: 0.2337 - val_accuracy: 0.8400\n",
            "Epoch 169/216\n",
            "4/4 [==============================] - 0s 65ms/step - loss: 0.2682 - accuracy: 0.8539 - val_loss: 0.2540 - val_accuracy: 0.8800\n",
            "Epoch 170/216\n",
            "4/4 [==============================] - 0s 64ms/step - loss: 0.2484 - accuracy: 0.8767 - val_loss: 0.2937 - val_accuracy: 0.9200\n",
            "Epoch 171/216\n",
            "4/4 [==============================] - 0s 67ms/step - loss: 0.2727 - accuracy: 0.8767 - val_loss: 0.2665 - val_accuracy: 0.8400\n",
            "Epoch 172/216\n",
            "4/4 [==============================] - 0s 61ms/step - loss: 0.2843 - accuracy: 0.8721 - val_loss: 0.2946 - val_accuracy: 0.8400\n",
            "Epoch 173/216\n",
            "4/4 [==============================] - 0s 62ms/step - loss: 0.2706 - accuracy: 0.8721 - val_loss: 0.2665 - val_accuracy: 0.8400\n",
            "Epoch 174/216\n",
            "4/4 [==============================] - 0s 65ms/step - loss: 0.2850 - accuracy: 0.8630 - val_loss: 0.2434 - val_accuracy: 0.9200\n",
            "Epoch 175/216\n",
            "4/4 [==============================] - 0s 64ms/step - loss: 0.2506 - accuracy: 0.8904 - val_loss: 0.2829 - val_accuracy: 0.8400\n",
            "Epoch 176/216\n",
            "4/4 [==============================] - 0s 67ms/step - loss: 0.2558 - accuracy: 0.8767 - val_loss: 0.2592 - val_accuracy: 0.8000\n",
            "Epoch 177/216\n",
            "4/4 [==============================] - 0s 67ms/step - loss: 0.2488 - accuracy: 0.8767 - val_loss: 0.2469 - val_accuracy: 0.8400\n",
            "Epoch 178/216\n",
            "4/4 [==============================] - 0s 64ms/step - loss: 0.2650 - accuracy: 0.8904 - val_loss: 0.2316 - val_accuracy: 0.8800\n",
            "Epoch 179/216\n",
            "4/4 [==============================] - 0s 64ms/step - loss: 0.2562 - accuracy: 0.8767 - val_loss: 0.2273 - val_accuracy: 0.9200\n",
            "Epoch 180/216\n",
            "4/4 [==============================] - 0s 66ms/step - loss: 0.2454 - accuracy: 0.8904 - val_loss: 0.2227 - val_accuracy: 0.8800\n",
            "Epoch 181/216\n",
            "4/4 [==============================] - 0s 67ms/step - loss: 0.2388 - accuracy: 0.8767 - val_loss: 0.2176 - val_accuracy: 0.8800\n",
            "Epoch 182/216\n",
            "4/4 [==============================] - 0s 66ms/step - loss: 0.2368 - accuracy: 0.8813 - val_loss: 0.2008 - val_accuracy: 0.9600\n",
            "Epoch 183/216\n",
            "4/4 [==============================] - 0s 66ms/step - loss: 0.2346 - accuracy: 0.8950 - val_loss: 0.1915 - val_accuracy: 0.9600\n",
            "Epoch 184/216\n",
            "4/4 [==============================] - 0s 60ms/step - loss: 0.2305 - accuracy: 0.8904 - val_loss: 0.2214 - val_accuracy: 0.8800\n",
            "Epoch 185/216\n",
            "4/4 [==============================] - 0s 65ms/step - loss: 0.2351 - accuracy: 0.8858 - val_loss: 0.2064 - val_accuracy: 0.8800\n",
            "Epoch 186/216\n",
            "4/4 [==============================] - 0s 67ms/step - loss: 0.2409 - accuracy: 0.8858 - val_loss: 0.2087 - val_accuracy: 0.8800\n",
            "Epoch 187/216\n",
            "4/4 [==============================] - 0s 62ms/step - loss: 0.2383 - accuracy: 0.8767 - val_loss: 0.2291 - val_accuracy: 0.8400\n",
            "Epoch 188/216\n",
            "4/4 [==============================] - 0s 63ms/step - loss: 0.2357 - accuracy: 0.9132 - val_loss: 0.2557 - val_accuracy: 0.8000\n",
            "Epoch 189/216\n",
            "4/4 [==============================] - 0s 65ms/step - loss: 0.2654 - accuracy: 0.8721 - val_loss: 0.2671 - val_accuracy: 0.9200\n",
            "Epoch 190/216\n",
            "4/4 [==============================] - 0s 63ms/step - loss: 0.2696 - accuracy: 0.8630 - val_loss: 0.2654 - val_accuracy: 0.8400\n",
            "Epoch 191/216\n",
            "4/4 [==============================] - 0s 68ms/step - loss: 0.2558 - accuracy: 0.8767 - val_loss: 0.2138 - val_accuracy: 0.8800\n",
            "Epoch 192/216\n",
            "4/4 [==============================] - 0s 66ms/step - loss: 0.2462 - accuracy: 0.8813 - val_loss: 0.1966 - val_accuracy: 0.9200\n",
            "Epoch 193/216\n",
            "4/4 [==============================] - 0s 70ms/step - loss: 0.2240 - accuracy: 0.8904 - val_loss: 0.2340 - val_accuracy: 0.8400\n",
            "Epoch 194/216\n",
            "4/4 [==============================] - 0s 62ms/step - loss: 0.2329 - accuracy: 0.8813 - val_loss: 0.2134 - val_accuracy: 0.8800\n",
            "Epoch 195/216\n",
            "4/4 [==============================] - 0s 68ms/step - loss: 0.2581 - accuracy: 0.8813 - val_loss: 0.2047 - val_accuracy: 0.8800\n",
            "Epoch 196/216\n",
            "4/4 [==============================] - 0s 63ms/step - loss: 0.2438 - accuracy: 0.8904 - val_loss: 0.1960 - val_accuracy: 0.9200\n",
            "Epoch 197/216\n",
            "4/4 [==============================] - 0s 71ms/step - loss: 0.2378 - accuracy: 0.8813 - val_loss: 0.1989 - val_accuracy: 0.9200\n",
            "Epoch 198/216\n",
            "4/4 [==============================] - 0s 68ms/step - loss: 0.2244 - accuracy: 0.8904 - val_loss: 0.1900 - val_accuracy: 0.9600\n",
            "Epoch 199/216\n",
            "4/4 [==============================] - 0s 86ms/step - loss: 0.2212 - accuracy: 0.8904 - val_loss: 0.1728 - val_accuracy: 0.9200\n",
            "Epoch 200/216\n",
            "4/4 [==============================] - 0s 101ms/step - loss: 0.2150 - accuracy: 0.8950 - val_loss: 0.1691 - val_accuracy: 0.9200\n",
            "Epoch 201/216\n",
            "4/4 [==============================] - 0s 101ms/step - loss: 0.2118 - accuracy: 0.8950 - val_loss: 0.1718 - val_accuracy: 0.9600\n",
            "Epoch 202/216\n",
            "4/4 [==============================] - 0s 96ms/step - loss: 0.2227 - accuracy: 0.8858 - val_loss: 0.1642 - val_accuracy: 0.9200\n",
            "Epoch 203/216\n",
            "4/4 [==============================] - 0s 98ms/step - loss: 0.2487 - accuracy: 0.8539 - val_loss: 0.2117 - val_accuracy: 0.8800\n",
            "Epoch 204/216\n",
            "4/4 [==============================] - 0s 104ms/step - loss: 0.3335 - accuracy: 0.8676 - val_loss: 0.1868 - val_accuracy: 0.8800\n",
            "Epoch 205/216\n",
            "4/4 [==============================] - 0s 102ms/step - loss: 0.2973 - accuracy: 0.8402 - val_loss: 0.2531 - val_accuracy: 0.8800\n",
            "Epoch 206/216\n",
            "4/4 [==============================] - 0s 109ms/step - loss: 0.2570 - accuracy: 0.8721 - val_loss: 0.3574 - val_accuracy: 0.8800\n",
            "Epoch 207/216\n",
            "4/4 [==============================] - 0s 97ms/step - loss: 0.2910 - accuracy: 0.8721 - val_loss: 0.3827 - val_accuracy: 0.8800\n",
            "Epoch 208/216\n",
            "4/4 [==============================] - 0s 93ms/step - loss: 0.2939 - accuracy: 0.8813 - val_loss: 0.3207 - val_accuracy: 0.8800\n",
            "Epoch 209/216\n",
            "4/4 [==============================] - 0s 108ms/step - loss: 0.2659 - accuracy: 0.8813 - val_loss: 0.2756 - val_accuracy: 0.9200\n",
            "Epoch 210/216\n",
            "4/4 [==============================] - 0s 105ms/step - loss: 0.2705 - accuracy: 0.8767 - val_loss: 0.2618 - val_accuracy: 0.9200\n",
            "Epoch 211/216\n",
            "4/4 [==============================] - 0s 102ms/step - loss: 0.2444 - accuracy: 0.8904 - val_loss: 0.2688 - val_accuracy: 0.8800\n",
            "Epoch 212/216\n",
            "4/4 [==============================] - 0s 75ms/step - loss: 0.2550 - accuracy: 0.8676 - val_loss: 0.2479 - val_accuracy: 0.8400\n",
            "Epoch 213/216\n",
            "4/4 [==============================] - 0s 60ms/step - loss: 0.2375 - accuracy: 0.8995 - val_loss: 0.2114 - val_accuracy: 0.8800\n",
            "Epoch 214/216\n",
            "4/4 [==============================] - 0s 61ms/step - loss: 0.2351 - accuracy: 0.8904 - val_loss: 0.1994 - val_accuracy: 0.9200\n",
            "Epoch 215/216\n",
            "4/4 [==============================] - 0s 70ms/step - loss: 0.2344 - accuracy: 0.8813 - val_loss: 0.1911 - val_accuracy: 0.9200\n",
            "Epoch 216/216\n",
            "4/4 [==============================] - 0s 61ms/step - loss: 0.2284 - accuracy: 0.8904 - val_loss: 0.1678 - val_accuracy: 0.9600\n"
          ]
        }
      ]
    },
    {
      "cell_type": "code",
      "source": [
        "predictions = model.predict(X_test)\n",
        "\n",
        "# Convert predictions to class labels\n",
        "predicted_labels = np.round(predictions).astype(int)\n",
        "\n",
        "# Print the predicted labels\n",
        "print(predicted_labels)"
      ],
      "metadata": {
        "colab": {
          "base_uri": "https://localhost:8080/"
        },
        "id": "MsEfYRQklHsj",
        "outputId": "851283d5-f7ea-423d-966c-0ae95e7d2b77"
      },
      "execution_count": null,
      "outputs": [
        {
          "output_type": "stream",
          "name": "stdout",
          "text": [
            "1/1 [==============================] - 0s 128ms/step\n",
            "[[0]\n",
            " [0]\n",
            " [1]\n",
            " [0]\n",
            " [1]\n",
            " [1]\n",
            " [1]\n",
            " [0]\n",
            " [0]\n",
            " [0]\n",
            " [0]\n",
            " [1]\n",
            " [0]\n",
            " [1]\n",
            " [0]\n",
            " [1]\n",
            " [1]\n",
            " [0]\n",
            " [0]\n",
            " [1]\n",
            " [0]\n",
            " [0]\n",
            " [0]\n",
            " [0]\n",
            " [1]]\n"
          ]
        }
      ]
    },
    {
      "cell_type": "code",
      "source": [
        "print(np.array(y_test))"
      ],
      "metadata": {
        "colab": {
          "base_uri": "https://localhost:8080/"
        },
        "id": "fSP8YmRIlRpI",
        "outputId": "085e0b4c-ce12-47cc-e250-0eb883913ab0"
      },
      "execution_count": null,
      "outputs": [
        {
          "output_type": "stream",
          "name": "stdout",
          "text": [
            "[0. 0. 1. 1. 1. 1. 1. 0. 0. 0. 0. 1. 0. 1. 0. 1. 1. 0. 0. 1. 0. 0. 0. 0.\n",
            " 1.]\n"
          ]
        }
      ]
    },
    {
      "cell_type": "code",
      "source": [
        "train_loss, train_acc = model.evaluate(X_train,y_train)\n",
        "test_loss, test_acc = model.evaluate(X_test,y_test)\n",
        "\n",
        "print(\"Train accuracy\", round(train_acc*100, 2),'%')\n",
        "print(\"Train loss\", train_loss)\n",
        "print(\"Test accuracy\", round(test_acc*100, 2),'%')\n",
        "print(\"Test loss\", test_loss)"
      ],
      "metadata": {
        "colab": {
          "base_uri": "https://localhost:8080/"
        },
        "id": "Y3kqJAMmlZLm",
        "outputId": "f2d1df74-8e9d-489b-f231-c2251c7b480a"
      },
      "execution_count": null,
      "outputs": [
        {
          "output_type": "stream",
          "name": "stdout",
          "text": [
            "7/7 [==============================] - 0s 8ms/step - loss: 0.2169 - accuracy: 0.8904\n",
            "1/1 [==============================] - 0s 31ms/step - loss: 0.1678 - accuracy: 0.9600\n",
            "Train accuracy 89.04 %\n",
            "Train loss 0.21690617501735687\n",
            "Test accuracy 96.0 %\n",
            "Test loss 0.16776588559150696\n"
          ]
        }
      ]
    },
    {
      "cell_type": "code",
      "source": [
        "from sklearn.metrics import confusion_matrix, classification_report\n",
        "\n",
        "print(classification_report(y_test,predicted_labels))\n",
        "print('*'*50)\n",
        "print(confusion_matrix(y_test,predicted_labels))"
      ],
      "metadata": {
        "colab": {
          "base_uri": "https://localhost:8080/"
        },
        "id": "ye9tozfyldYf",
        "outputId": "f15c6030-a79e-4c48-a2ef-7d9645748ec8"
      },
      "execution_count": null,
      "outputs": [
        {
          "output_type": "stream",
          "name": "stdout",
          "text": [
            "              precision    recall  f1-score   support\n",
            "\n",
            "         0.0       0.93      1.00      0.97        14\n",
            "         1.0       1.00      0.91      0.95        11\n",
            "\n",
            "    accuracy                           0.96        25\n",
            "   macro avg       0.97      0.95      0.96        25\n",
            "weighted avg       0.96      0.96      0.96        25\n",
            "\n",
            "**************************************************\n",
            "[[14  0]\n",
            " [ 1 10]]\n"
          ]
        }
      ]
    },
    {
      "cell_type": "code",
      "source": [
        "label_map = {\n",
        "    0: 'Autism child',\n",
        "    1: 'typical child'\n",
        "}"
      ],
      "metadata": {
        "id": "E83n_CyAlgx5"
      },
      "execution_count": null,
      "outputs": []
    },
    {
      "cell_type": "code",
      "source": [
        "plt.figure(figsize=(2,2))\n",
        "conf_matrix = confusion_matrix(y_test,predicted_labels)\n",
        "sns.heatmap(conf_matrix, xticklabels= label_map.values(), yticklabels= label_map.values(), annot=True, fmt=\"d\")\n",
        "plt.show()"
      ],
      "metadata": {
        "colab": {
          "base_uri": "https://localhost:8080/",
          "height": 286
        },
        "id": "CNvr0vvClkPb",
        "outputId": "76a3ef29-8e21-4668-c00f-c2dea4875e5c"
      },
      "execution_count": null,
      "outputs": [
        {
          "output_type": "display_data",
          "data": {
            "text/plain": [
              "<Figure size 200x200 with 2 Axes>"
            ],
            "image/png": "[encoded data removed]"
          },
          "metadata": {}
        }
      ]
    },
    {
      "cell_type": "code",
      "source": [
        "train_loss = model_history.history['loss']\n",
        "val_loss = model_history.history['val_loss']\n",
        "train_accuracy = model_history.history['accuracy']\n",
        "val_accuracy = model_history.history['val_accuracy']\n",
        "\n",
        "plt.figure(figsize=(12,6))\n",
        "\n",
        "plt.subplot(1,2,1)\n",
        "plt.plot(train_loss, 'r', label='Training loss')\n",
        "plt.plot(val_loss, 'b', label='Validation loss')\n",
        "plt.title('Training and Validation Loss')\n",
        "plt.xlabel('Epoch')\n",
        "plt.ylabel('Loss Value')\n",
        "plt.legend()\n",
        "\n",
        "plt.subplot(1,2,2)\n",
        "plt.plot(train_accuracy, 'r', label='Training Accuracy')\n",
        "plt.plot(val_accuracy, 'b', label='Validation Accuracy')\n",
        "plt.title('Training and Validation Accuracy')\n",
        "plt.xlabel('Epoch')\n",
        "plt.ylabel('Accuracy')\n",
        "plt.legend()\n",
        "\n",
        "plt.show()"
      ],
      "metadata": {
        "colab": {
          "base_uri": "https://localhost:8080/",
          "height": 564
        },
        "id": "zxPWIbfJloCx",
        "outputId": "ddded8e1-b587-46fc-835a-e224370ded0d"
      },
      "execution_count": null,
      "outputs": [
        {
          "output_type": "display_data",
          "data": {
            "text/plain": [
              "<Figure size 1200x600 with 2 Axes>"
            ],
            "image/png": "[encoded data removed]"
          },
          "metadata": {}
        }
      ]
    }
  ]
}